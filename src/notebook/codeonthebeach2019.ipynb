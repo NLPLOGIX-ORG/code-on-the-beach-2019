{
 "cells": [
  {
   "cell_type": "code",
   "execution_count": 39,
   "metadata": {},
   "outputs": [],
   "source": [
    "#import libraries, set seed \n",
    "from sklearn.ensemble import RandomForestRegressor\n",
    "from sklearn import metrics\n",
    "import pandas as pd\n",
    "import numpy as np\n",
    "import os, random, pickle, sys\n",
    "import matplotlib.pyplot as plt\n",
    "from sklearn.tree import export_graphviz\n",
    "import seaborn as sns; sns.set(style=\"ticks\", color_codes=True)\n",
    "\n",
    "from features import Features\n",
    "\n",
    "random.seed(19860406)\n",
    "np.random.seed(19860406)"
   ]
  },
  {
   "cell_type": "code",
   "execution_count": 40,
   "metadata": {},
   "outputs": [],
   "source": [
    "#Thank you stack overflow: https://stats.stackexchange.com/questions/58391/mean-absolute-percentage-error-mape-in-scikit-learn\n",
    "def mean_absolute_percentage_error(y_true, y_pred): \n",
    "    y_true, y_pred = np.array(y_true), np.array(y_pred)\n",
    "    return np.mean(np.abs((y_true - y_pred) / y_true)) * 100"
   ]
  },
  {
   "cell_type": "code",
   "execution_count": 41,
   "metadata": {},
   "outputs": [],
   "source": [
    "def compute_and_visualize_mse(df, ycol, context, info):        \n",
    "    \n",
    "    tr_indices, xv_indices, tr_yhat, xv_yhat = info\n",
    "    \n",
    "    '''\n",
    "    test of model accuracies - Mean Squared Error\n",
    "    note - we use Mean squared error here, but mean absolute percentage error(MAPE) and \n",
    "    mean absolute error (MAE) are also fair possibilities for regression based problems\n",
    "    '''\n",
    "    tr_MSE = metrics.mean_squared_error(merged_df[ycol].loc[tr_indices], tr_yhat)\n",
    "    xv_MSE = metrics.mean_squared_error(merged_df[ycol].loc[xv_indices], xv_yhat)\n",
    "    \n",
    "    print('tr MSE {} xval MSE {}'.format(tr_MSE, xv_MSE))\n",
    "\n",
    "    #preallocate the ERROR field and save for dataviz\n",
    "    error_col_name = context + \"ERROR\"\n",
    "    df[error_col_name] = df.shape[0] * [0.0]\n",
    "    df.loc[tr_indices, error_col_name] = df[ycol].loc[tr_indices] - tr_yhat\n",
    "    df.loc[xv_indices, error_col_name] = df[ycol].loc[xv_indices] - xv_yhat\n",
    "\n",
    "    #plot the errors \n",
    "    plt.hist(df[error_col_name].loc[xv_indices], density=True, bins=30)\n",
    "    plt.ylabel('Frequency')\n",
    "    plt.xlabel(error_col_name)\n",
    "\n",
    "    ###### note: our errors should be centered around zero. If the hump in the distribution is not around the zero mark\n",
    "    ###### or has multiple humps, we have a major problem"
   ]
  },
  {
   "cell_type": "code",
   "execution_count": 42,
   "metadata": {},
   "outputs": [],
   "source": [
    "def compute_and_visualize_mape(df, ycol, context, info):        \n",
    "    \n",
    "    tr_indices, xv_indices, tr_yhat, xv_yhat = info\n",
    "    \n",
    "    ##### mean absolute error (MAE) are also fair possibilities for regression based problems\n",
    "    tr_MAPE = mean_absolute_percentage_error(df[ycol].loc[tr_indices], tr_yhat)\n",
    "    xv_MAPE = mean_absolute_percentage_error(df[ycol].loc[xv_indices], xv_yhat)\n",
    "\n",
    "    print('tr MAPE {} xval MAPE {}'.format(tr_MAPE, xv_MAPE))\n",
    "\n",
    "    #preallocate the ERROR field and save for dataviz\n",
    "    error_col_name = context + \"PERCENTAGE_ERROR\"\n",
    "    df[error_col_name] = merged_df.shape[0] * [0.0]\n",
    "    df.loc[tr_indices, error_col_name] = merged_df[context + \"ERROR\"].loc[tr_indices] / tr_yhat\n",
    "    df.loc[xv_indices, error_col_name] = merged_df[context + \"ERROR\"].loc[xv_indices] / xv_yhat\n",
    "    \n",
    "    #plot the errors \n",
    "    plt.hist(df[error_col_name].loc[xv_indices], density=True, bins=30)\n",
    "    plt.ylabel('Frequency')\n",
    "    plt.xlabel('Percent Error')\n",
    "\n",
    "    ###### note: our errors should be centered around zero. If the hump in the distribution is not around the zero mark\n",
    "    ###### or has multiple humps, we have a major problem"
   ]
  },
  {
   "cell_type": "code",
   "execution_count": 43,
   "metadata": {},
   "outputs": [
    {
     "name": "stdout",
     "output_type": "stream",
     "text": [
      "ROWS 170439 BEFORE MERGE cols 30 AFTER MERGE cols 37\n"
     ]
    }
   ],
   "source": [
    "#read in and join the necessary data \n",
    "fpath = os.path.join(\"data\", \"casetable.psv\")\n",
    "df = pd.read_csv(fpath, \n",
    "                 sep = \"|\", \n",
    "                 low_memory=False,\n",
    "                 dtype = {\n",
    "                     \"Site Address City\": str\n",
    "                 })\n",
    "df_census = pd.read_csv(os.path.join(\"data\", \"census2017.csv\"))\n",
    "merged_df = pd.merge(df, df_census, left_on=\"Site Zip Code\", right_on='ZipCode', how=\"left\")\n",
    "\n",
    "#make sure the row count did not change\n",
    "assert df.shape[0] == merged_df.shape[0]\n",
    "\n",
    "#show number of rows /columns before and after\n",
    "print(\"ROWS {} BEFORE MERGE cols {} AFTER MERGE cols {}\".format(merged_df.shape[0], df.shape[1], merged_df.shape[1]))"
   ]
  },
  {
   "cell_type": "code",
   "execution_count": 44,
   "metadata": {},
   "outputs": [
    {
     "name": "stdout",
     "output_type": "stream",
     "text": [
      "<class 'pandas.core.frame.DataFrame'>\n",
      "Int64Index: 170439 entries, 0 to 170438\n",
      "Data columns (total 37 columns):\n",
      "Parcel Number                          170439 non-null object\n",
      "Section                                170439 non-null int64\n",
      "Township                               170439 non-null object\n",
      "Total Market Value                     170439 non-null float64\n",
      "Assessed Value                         170439 non-null float64\n",
      "Total Just Value                       170439 non-null float64\n",
      "doc acres                              170439 non-null float64\n",
      "Site Address Number                    170439 non-null int64\n",
      "Site Address Street Name               170423 non-null object\n",
      "Site Address Street Type               170097 non-null object\n",
      "Site Address Unit Number               9566 non-null object\n",
      "Site Address City                      170422 non-null object\n",
      "Site Zip Code                          170422 non-null float64\n",
      "Building Number                        170439 non-null int64\n",
      "building type code                     170439 non-null int64\n",
      "building type name                     170439 non-null object\n",
      "building style code                    170439 non-null int64\n",
      "building class code                    170439 non-null int64\n",
      "quality code                           170439 non-null int64\n",
      "actual year built                      170439 non-null int64\n",
      "effective year built                   170439 non-null int64\n",
      "building value                         170439 non-null float64\n",
      "building heated area                   170439 non-null int64\n",
      "Number Of Bedrooms                     170439 non-null int64\n",
      "Number Of Bathrooms                    170439 non-null int64\n",
      "Number Of Rooms                        170439 non-null int64\n",
      "Number Of Stories                      170439 non-null int64\n",
      "Amenity Item Code                      714 non-null object\n",
      "HasPool                                170439 non-null int64\n",
      "Exemption Code                         170439 non-null object\n",
      "ZipCode                                170208 non-null float64\n",
      "MedianIncome                           170208 non-null float64\n",
      "MilitaryServiceRate                    170208 non-null float64\n",
      "UnemploymentRate                       170208 non-null float64\n",
      "EducationLevel                         170208 non-null float64\n",
      "PovertyRate                            170208 non-null float64\n",
      "PctWhereRentIsMoreThan35PctOfIncome    170208 non-null float64\n",
      "dtypes: float64(13), int64(15), object(9)\n",
      "memory usage: 49.4+ MB\n"
     ]
    }
   ],
   "source": [
    "merged_df.info()"
   ]
  },
  {
   "cell_type": "code",
   "execution_count": 45,
   "metadata": {},
   "outputs": [],
   "source": [
    "'''\n",
    "building heated area : 0.5532334886630437\n",
    "quality code : 0.14442706807497316\n",
    "effective year built : 0.07049727899246086\n",
    "AdjustedArea_Rooms : 0.052896518905888604\n",
    "IsAtTheBeach : 0.04718246586953297\n",
    "Site Zip Code : \n",
    "'''\n",
    "\n",
    "#define data columns \n",
    "baseline_features = [\"Site Zip Code\",\n",
    "              \"quality code\",\n",
    "              \"effective year built\",\n",
    "              \"building heated area\"              \n",
    "             ]\n",
    "\n",
    "meta_cols  = [\"Parcel Number\",\n",
    "             \"Site Address City\"]\n",
    "ycol = \"Assessed Value\""
   ]
  },
  {
   "cell_type": "code",
   "execution_count": 46,
   "metadata": {},
   "outputs": [],
   "source": [
    "#filter out data as necessary\n",
    "merged_df = merged_df[merged_df['Assessed Value']<500000]\n",
    "merged_df = merged_df[merged_df['Number Of Bedrooms']<10]\n",
    "merged_df = merged_df[merged_df['Number Of Bathrooms']<9]\n",
    "\n",
    "merged_df.fillna(-999,inplace = True)"
   ]
  },
  {
   "cell_type": "code",
   "execution_count": 47,
   "metadata": {},
   "outputs": [
    {
     "data": {
      "text/html": [
       "<div>\n",
       "<style scoped>\n",
       "    .dataframe tbody tr th:only-of-type {\n",
       "        vertical-align: middle;\n",
       "    }\n",
       "\n",
       "    .dataframe tbody tr th {\n",
       "        vertical-align: top;\n",
       "    }\n",
       "\n",
       "    .dataframe thead th {\n",
       "        text-align: right;\n",
       "    }\n",
       "</style>\n",
       "<table border=\"1\" class=\"dataframe\">\n",
       "  <thead>\n",
       "    <tr style=\"text-align: right;\">\n",
       "      <th></th>\n",
       "      <th>Site Zip Code</th>\n",
       "      <th>quality code</th>\n",
       "      <th>effective year built</th>\n",
       "      <th>building heated area</th>\n",
       "    </tr>\n",
       "  </thead>\n",
       "  <tbody>\n",
       "    <tr>\n",
       "      <th>count</th>\n",
       "      <td>166442.000000</td>\n",
       "      <td>166442.000000</td>\n",
       "      <td>166442.000000</td>\n",
       "      <td>166442.000000</td>\n",
       "    </tr>\n",
       "    <tr>\n",
       "      <th>mean</th>\n",
       "      <td>32226.142536</td>\n",
       "      <td>3.129823</td>\n",
       "      <td>1986.333600</td>\n",
       "      <td>1809.836628</td>\n",
       "    </tr>\n",
       "    <tr>\n",
       "      <th>std</th>\n",
       "      <td>326.475893</td>\n",
       "      <td>0.531819</td>\n",
       "      <td>18.817768</td>\n",
       "      <td>651.877837</td>\n",
       "    </tr>\n",
       "    <tr>\n",
       "      <th>min</th>\n",
       "      <td>-999.000000</td>\n",
       "      <td>1.000000</td>\n",
       "      <td>1888.000000</td>\n",
       "      <td>170.000000</td>\n",
       "    </tr>\n",
       "    <tr>\n",
       "      <th>25%</th>\n",
       "      <td>32216.000000</td>\n",
       "      <td>3.000000</td>\n",
       "      <td>1973.000000</td>\n",
       "      <td>1348.000000</td>\n",
       "    </tr>\n",
       "    <tr>\n",
       "      <th>50%</th>\n",
       "      <td>32224.000000</td>\n",
       "      <td>3.000000</td>\n",
       "      <td>1989.000000</td>\n",
       "      <td>1692.000000</td>\n",
       "    </tr>\n",
       "    <tr>\n",
       "      <th>75%</th>\n",
       "      <td>32246.000000</td>\n",
       "      <td>3.000000</td>\n",
       "      <td>2002.000000</td>\n",
       "      <td>2142.000000</td>\n",
       "    </tr>\n",
       "    <tr>\n",
       "      <th>max</th>\n",
       "      <td>32299.000000</td>\n",
       "      <td>6.000000</td>\n",
       "      <td>2018.000000</td>\n",
       "      <td>6754.000000</td>\n",
       "    </tr>\n",
       "  </tbody>\n",
       "</table>\n",
       "</div>"
      ],
      "text/plain": [
       "       Site Zip Code   quality code  effective year built  \\\n",
       "count  166442.000000  166442.000000         166442.000000   \n",
       "mean    32226.142536       3.129823           1986.333600   \n",
       "std       326.475893       0.531819             18.817768   \n",
       "min      -999.000000       1.000000           1888.000000   \n",
       "25%     32216.000000       3.000000           1973.000000   \n",
       "50%     32224.000000       3.000000           1989.000000   \n",
       "75%     32246.000000       3.000000           2002.000000   \n",
       "max     32299.000000       6.000000           2018.000000   \n",
       "\n",
       "       building heated area  \n",
       "count         166442.000000  \n",
       "mean            1809.836628  \n",
       "std              651.877837  \n",
       "min              170.000000  \n",
       "25%             1348.000000  \n",
       "50%             1692.000000  \n",
       "75%             2142.000000  \n",
       "max             6754.000000  "
      ]
     },
     "execution_count": 47,
     "metadata": {},
     "output_type": "execute_result"
    }
   ],
   "source": [
    "merged_df[baseline_features].describe(include=\"all\")"
   ]
  },
  {
   "cell_type": "code",
   "execution_count": 48,
   "metadata": {},
   "outputs": [],
   "source": [
    "#create a function to split the data \n",
    "def split(df, pct=.7):\n",
    "    tr, xv = [], []\n",
    "     \n",
    "    indices = [x for x in df.index]\n",
    "    random.shuffle(indices)\n",
    " \n",
    "    for ind in indices:\n",
    "        if np.random.rand() <= pct:\n",
    "            tr.append(ind)\n",
    "        else:\n",
    "            xv.append(ind)\n",
    " \n",
    "    return tr, xv"
   ]
  },
  {
   "cell_type": "code",
   "execution_count": 49,
   "metadata": {},
   "outputs": [],
   "source": [
    "#split into test and train. \n",
    "tr_indices, xv_indices = split(merged_df)\n",
    "\n",
    "#verify no nans in the dataset\n",
    "assert merged_df[baseline_features].isnull().values.any() == False"
   ]
  },
  {
   "cell_type": "code",
   "execution_count": 50,
   "metadata": {},
   "outputs": [],
   "source": [
    "#fit the model    \n",
    "rfc = RandomForestRegressor(\n",
    "        n_estimators = 50, \n",
    "        min_samples_leaf = 15)\n",
    "\n",
    "rfc.fit(merged_df[baseline_features].loc[tr_indices],\n",
    "        merged_df[ycol].loc[tr_indices])\n",
    "\n",
    "#fit the predicted values\n",
    "tr_yhat = rfc.predict(merged_df[baseline_features].loc[tr_indices])\n",
    "xv_yhat = rfc.predict(merged_df[baseline_features].loc[xv_indices])\n",
    "       "
   ]
  },
  {
   "cell_type": "code",
   "execution_count": 51,
   "metadata": {},
   "outputs": [],
   "source": [
    "context = \"BASELINE_\""
   ]
  },
  {
   "cell_type": "code",
   "execution_count": 52,
   "metadata": {
    "scrolled": true
   },
   "outputs": [
    {
     "name": "stdout",
     "output_type": "stream",
     "text": [
      "tr MSE 1215095794.3969886 xval MSE 1437070672.3368459\n"
     ]
    },
    {
     "data": {
      "image/png": "[encoded data removed]",
      "text/plain": [
       "<Figure size 432x288 with 1 Axes>"
      ]
     },
     "metadata": {},
     "output_type": "display_data"
    }
   ],
   "source": [
    "compute_and_visualize_mse(merged_df, ycol, context, (tr_indices, xv_indices, tr_yhat, xv_yhat))"
   ]
  },
  {
   "cell_type": "code",
   "execution_count": 53,
   "metadata": {},
   "outputs": [
    {
     "name": "stdout",
     "output_type": "stream",
     "text": [
      "tr MAPE 18.859984606670483 xval MAPE 20.121276932609135\n"
     ]
    },
    {
     "data": {
      "image/png": "[encoded data removed]",
      "text/plain": [
       "<Figure size 432x288 with 1 Axes>"
      ]
     },
     "metadata": {},
     "output_type": "display_data"
    }
   ],
   "source": [
    "compute_and_visualize_mape(merged_df, ycol, context, (tr_indices, xv_indices, tr_yhat, xv_yhat))"
   ]
  },
  {
   "cell_type": "code",
   "execution_count": 54,
   "metadata": {},
   "outputs": [],
   "source": [
    "#serialize model\n",
    "with open(os.path.join(\".model\", 'model{}.pckl'.format(context)), 'wb') as f:\n",
    "   pickle.dump(rfc, f,  pickle.HIGHEST_PROTOCOL)"
   ]
  },
  {
   "cell_type": "code",
   "execution_count": 55,
   "metadata": {},
   "outputs": [],
   "source": [
    "########################################################################################\n",
    "## Second fit - this time with some engineered features                               ##\n",
    "########################################################################################"
   ]
  },
  {
   "cell_type": "code",
   "execution_count": 56,
   "metadata": {},
   "outputs": [],
   "source": [
    "#feature engineering \n",
    "features = Features()\n",
    "merged_df, computed_features = features.compute(merged_df)\n",
    "\n",
    "#Replace NAs and Infinite Values with -999s \n",
    "merged_df.fillna(-999,inplace = True)"
   ]
  },
  {
   "cell_type": "code",
   "execution_count": 57,
   "metadata": {},
   "outputs": [],
   "source": [
    "#combine the computed features with the baseline features to train a new model\n",
    "train_cols = computed_features + baseline_features + [\"HasPool\"]"
   ]
  },
  {
   "cell_type": "code",
   "execution_count": 58,
   "metadata": {},
   "outputs": [
    {
     "data": {
      "text/html": [
       "<div>\n",
       "<style scoped>\n",
       "    .dataframe tbody tr th:only-of-type {\n",
       "        vertical-align: middle;\n",
       "    }\n",
       "\n",
       "    .dataframe tbody tr th {\n",
       "        vertical-align: top;\n",
       "    }\n",
       "\n",
       "    .dataframe thead th {\n",
       "        text-align: right;\n",
       "    }\n",
       "</style>\n",
       "<table border=\"1\" class=\"dataframe\">\n",
       "  <thead>\n",
       "    <tr style=\"text-align: right;\">\n",
       "      <th></th>\n",
       "      <th>BedroomToTotalRoomRatio</th>\n",
       "      <th>BathroomToTotalRoomRatio</th>\n",
       "      <th>IsAtTheBeach</th>\n",
       "      <th>AdjustedArea_Rooms</th>\n",
       "      <th>Site Zip Code</th>\n",
       "      <th>quality code</th>\n",
       "      <th>effective year built</th>\n",
       "      <th>building heated area</th>\n",
       "      <th>HasPool</th>\n",
       "    </tr>\n",
       "  </thead>\n",
       "  <tbody>\n",
       "    <tr>\n",
       "      <th>count</th>\n",
       "      <td>166442.000000</td>\n",
       "      <td>166442.000000</td>\n",
       "      <td>166442.000000</td>\n",
       "      <td>1.664420e+05</td>\n",
       "      <td>166442.000000</td>\n",
       "      <td>166442.000000</td>\n",
       "      <td>166442.000000</td>\n",
       "      <td>166442.000000</td>\n",
       "      <td>166442.000000</td>\n",
       "    </tr>\n",
       "    <tr>\n",
       "      <th>mean</th>\n",
       "      <td>3.077913</td>\n",
       "      <td>1.895480</td>\n",
       "      <td>0.060057</td>\n",
       "      <td>-9.494281e-17</td>\n",
       "      <td>32226.142536</td>\n",
       "      <td>3.129823</td>\n",
       "      <td>1986.333600</td>\n",
       "      <td>1809.836628</td>\n",
       "      <td>0.125215</td>\n",
       "    </tr>\n",
       "    <tr>\n",
       "      <th>std</th>\n",
       "      <td>0.975730</td>\n",
       "      <td>0.753883</td>\n",
       "      <td>0.237593</td>\n",
       "      <td>9.999940e-01</td>\n",
       "      <td>326.475893</td>\n",
       "      <td>0.531819</td>\n",
       "      <td>18.817768</td>\n",
       "      <td>651.877837</td>\n",
       "      <td>0.330963</td>\n",
       "    </tr>\n",
       "    <tr>\n",
       "      <th>min</th>\n",
       "      <td>0.000000</td>\n",
       "      <td>0.000000</td>\n",
       "      <td>0.000000</td>\n",
       "      <td>-2.543227e+00</td>\n",
       "      <td>-999.000000</td>\n",
       "      <td>1.000000</td>\n",
       "      <td>1888.000000</td>\n",
       "      <td>170.000000</td>\n",
       "      <td>0.000000</td>\n",
       "    </tr>\n",
       "    <tr>\n",
       "      <th>25%</th>\n",
       "      <td>3.000000</td>\n",
       "      <td>2.000000</td>\n",
       "      <td>0.000000</td>\n",
       "      <td>-7.027000e-01</td>\n",
       "      <td>32216.000000</td>\n",
       "      <td>3.000000</td>\n",
       "      <td>1973.000000</td>\n",
       "      <td>1348.000000</td>\n",
       "      <td>0.000000</td>\n",
       "    </tr>\n",
       "    <tr>\n",
       "      <th>50%</th>\n",
       "      <td>3.000000</td>\n",
       "      <td>2.000000</td>\n",
       "      <td>0.000000</td>\n",
       "      <td>-1.768353e-01</td>\n",
       "      <td>32224.000000</td>\n",
       "      <td>3.000000</td>\n",
       "      <td>1989.000000</td>\n",
       "      <td>1692.000000</td>\n",
       "      <td>0.000000</td>\n",
       "    </tr>\n",
       "    <tr>\n",
       "      <th>75%</th>\n",
       "      <td>4.000000</td>\n",
       "      <td>2.000000</td>\n",
       "      <td>0.000000</td>\n",
       "      <td>5.064831e-01</td>\n",
       "      <td>32246.000000</td>\n",
       "      <td>3.000000</td>\n",
       "      <td>2002.000000</td>\n",
       "      <td>2142.000000</td>\n",
       "      <td>0.000000</td>\n",
       "    </tr>\n",
       "    <tr>\n",
       "      <th>max</th>\n",
       "      <td>8.000000</td>\n",
       "      <td>6.000000</td>\n",
       "      <td>1.000000</td>\n",
       "      <td>7.838029e+00</td>\n",
       "      <td>32299.000000</td>\n",
       "      <td>6.000000</td>\n",
       "      <td>2018.000000</td>\n",
       "      <td>6754.000000</td>\n",
       "      <td>1.000000</td>\n",
       "    </tr>\n",
       "  </tbody>\n",
       "</table>\n",
       "</div>"
      ],
      "text/plain": [
       "       BedroomToTotalRoomRatio  BathroomToTotalRoomRatio   IsAtTheBeach  \\\n",
       "count            166442.000000             166442.000000  166442.000000   \n",
       "mean                  3.077913                  1.895480       0.060057   \n",
       "std                   0.975730                  0.753883       0.237593   \n",
       "min                   0.000000                  0.000000       0.000000   \n",
       "25%                   3.000000                  2.000000       0.000000   \n",
       "50%                   3.000000                  2.000000       0.000000   \n",
       "75%                   4.000000                  2.000000       0.000000   \n",
       "max                   8.000000                  6.000000       1.000000   \n",
       "\n",
       "       AdjustedArea_Rooms  Site Zip Code   quality code  effective year built  \\\n",
       "count        1.664420e+05  166442.000000  166442.000000         166442.000000   \n",
       "mean        -9.494281e-17   32226.142536       3.129823           1986.333600   \n",
       "std          9.999940e-01     326.475893       0.531819             18.817768   \n",
       "min         -2.543227e+00    -999.000000       1.000000           1888.000000   \n",
       "25%         -7.027000e-01   32216.000000       3.000000           1973.000000   \n",
       "50%         -1.768353e-01   32224.000000       3.000000           1989.000000   \n",
       "75%          5.064831e-01   32246.000000       3.000000           2002.000000   \n",
       "max          7.838029e+00   32299.000000       6.000000           2018.000000   \n",
       "\n",
       "       building heated area        HasPool  \n",
       "count         166442.000000  166442.000000  \n",
       "mean            1809.836628       0.125215  \n",
       "std              651.877837       0.330963  \n",
       "min              170.000000       0.000000  \n",
       "25%             1348.000000       0.000000  \n",
       "50%             1692.000000       0.000000  \n",
       "75%             2142.000000       0.000000  \n",
       "max             6754.000000       1.000000  "
      ]
     },
     "execution_count": 58,
     "metadata": {},
     "output_type": "execute_result"
    }
   ],
   "source": [
    "merged_df[train_cols].describe()"
   ]
  },
  {
   "cell_type": "code",
   "execution_count": 59,
   "metadata": {},
   "outputs": [],
   "source": [
    "#fit the model    \n",
    "rfc = RandomForestRegressor(\n",
    "        n_estimators = 50, \n",
    "        min_samples_leaf = 15)\n",
    "\n",
    "rfc.fit(merged_df[train_cols].loc[tr_indices],\n",
    "        merged_df[ycol].loc[tr_indices])\n",
    "\n",
    "#fit the predicted values\n",
    "tr_yhat = rfc.predict(merged_df[train_cols].loc[tr_indices])\n",
    "xv_yhat = rfc.predict(merged_df[train_cols].loc[xv_indices])"
   ]
  },
  {
   "cell_type": "code",
   "execution_count": 60,
   "metadata": {},
   "outputs": [],
   "source": [
    "context = \"COMPUTED_FEATURES_\""
   ]
  },
  {
   "cell_type": "code",
   "execution_count": 61,
   "metadata": {},
   "outputs": [
    {
     "name": "stdout",
     "output_type": "stream",
     "text": [
      "tr MSE 1119737675.2269933 xval MSE 1340449386.3841226\n"
     ]
    },
    {
     "data": {
      "image/png": "[encoded data removed]",
      "text/plain": [
       "<Figure size 432x288 with 1 Axes>"
      ]
     },
     "metadata": {},
     "output_type": "display_data"
    }
   ],
   "source": [
    "compute_and_visualize_mse(merged_df,  ycol, context, (tr_indices, xv_indices, tr_yhat, xv_yhat))"
   ]
  },
  {
   "cell_type": "code",
   "execution_count": 62,
   "metadata": {},
   "outputs": [
    {
     "name": "stdout",
     "output_type": "stream",
     "text": [
      "tr MAPE 17.860771246463532 xval MAPE 19.120718894617468\n"
     ]
    },
    {
     "data": {
      "image/png": "[encoded data removed]",
      "text/plain": [
       "<Figure size 432x288 with 1 Axes>"
      ]
     },
     "metadata": {},
     "output_type": "display_data"
    }
   ],
   "source": [
    "compute_and_visualize_mape(merged_df, ycol, context, (tr_indices, xv_indices, tr_yhat, xv_yhat))"
   ]
  },
  {
   "cell_type": "code",
   "execution_count": 63,
   "metadata": {
    "scrolled": true
   },
   "outputs": [
    {
     "name": "stdout",
     "output_type": "stream",
     "text": [
      "building heated area : 0.5688234103410081\n",
      "quality code : 0.14835889147826328\n",
      "effective year built : 0.09021923262508912\n",
      "Site Zip Code : 0.061414304074526915\n",
      "AdjustedArea_Rooms : 0.05960411205757022\n",
      "IsAtTheBeach : 0.05205609541077425\n",
      "HasPool : 0.008897232777135125\n",
      "BedroomToTotalRoomRatio : 0.005923391705106724\n",
      "BathroomToTotalRoomRatio : 0.004703329530526325\n"
     ]
    }
   ],
   "source": [
    "########################################################################################\n",
    "## Add feature importance to see impact of feature on model                           ##\n",
    "########################################################################################\n",
    "fi = rfc.feature_importances_\n",
    "\n",
    "#sort rank the feature importance creating a tuple of featurename and score\n",
    "ordered_features = sorted(zip(train_cols, fi), key=lambda x: x[1], reverse=True)\n",
    "for of in ordered_features:\n",
    "    featurename = of[0]\n",
    "    score       = of[1]\n",
    "    print (featurename,\":\",score)"
   ]
  },
  {
   "cell_type": "code",
   "execution_count": 64,
   "metadata": {},
   "outputs": [],
   "source": [
    "#serialize model\n",
    "with open(os.path.join(\".model\", 'model{}.pckl'.format(context)), 'wb') as f:\n",
    "   pickle.dump(rfc, f,  pickle.HIGHEST_PROTOCOL)"
   ]
  }
 ],
 "metadata": {
  "kernelspec": {
   "display_name": "Python 3",
   "language": "python",
   "name": "python3"
  },
  "language_info": {
   "codemirror_mode": {
    "name": "ipython",
    "version": 3
   },
   "file_extension": ".py",
   "mimetype": "text/x-python",
   "name": "python",
   "nbconvert_exporter": "python",
   "pygments_lexer": "ipython3",
   "version": "3.7.3"
  }
 },
 "nbformat": 4,
 "nbformat_minor": 2
}
