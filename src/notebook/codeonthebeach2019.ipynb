{
 "cells": [
  {
   "cell_type": "code",
   "execution_count": 21,
   "metadata": {},
   "outputs": [],
   "source": [
    "from sklearn.ensemble import RandomForestRegressor\n",
    "from sklearn import metrics\n",
    "from sklearn.utils import resample \n",
    "import pandas as pd\n",
    "import numpy as np\n",
    "import os, random\n",
    "import matplotlib.pyplot as plt\n",
    "from sklearn.tree import export_graphviz\n",
    "import pickle "
   ]
  },
  {
   "cell_type": "code",
   "execution_count": 22,
   "metadata": {},
   "outputs": [],
   "source": [
    "train_cols = [\"Zipcode\",\n",
    "              \"doc acres\",\n",
    "              \"building style code\", \n",
    "              \"building class code\", \n",
    "              \"quality code\",\n",
    "              \"actual year built\",\n",
    "              \"effective year built\",\n",
    "              \"building heated area\",\n",
    "              \"Number Of Bedrooms\",\n",
    "              \"Number Of Bathrooms\",\n",
    "              \"Number Of Rooms\",\n",
    "              \"MedianIncome\",\n",
    "              \"MilitaryServiceRate\",\n",
    "              \"UnemploymentRate\",\n",
    "              \"EducationLevel\",\n",
    "              \"PovertyRate\",\n",
    "              \"PctWhereRentIsMoreThan35PctOfIncome\"]\n",
    "\n",
    "meta_cols  = [\"Parcel Number\"]\n",
    "ycol = \"Assessed Value\""
   ]
  },
  {
   "cell_type": "code",
   "execution_count": 23,
   "metadata": {},
   "outputs": [
    {
     "data": {
      "text/plain": [
       "(array([4.20048709e-06, 2.00122620e-06, 3.55620943e-07, 9.61792104e-08,\n",
       "        3.99324332e-08, 2.47692230e-08, 1.58380128e-08, 8.33579620e-09,\n",
       "        6.15261148e-09, 4.16789810e-09, 3.49309555e-09, 1.66715924e-09,\n",
       "        1.94501911e-09, 9.52662422e-10, 1.23052230e-09, 7.93885352e-10,\n",
       "        5.55719746e-10, 3.57248408e-10, 4.36636944e-10, 2.77859873e-10,\n",
       "        1.58777070e-10, 2.77859873e-10, 1.98471338e-10, 1.58777070e-10,\n",
       "        0.00000000e+00, 1.19082803e-10, 0.00000000e+00, 0.00000000e+00,\n",
       "        3.96942676e-11, 7.93885352e-11]),\n",
       " array([3.2120000e+03, 1.5102180e+05, 2.9883160e+05, 4.4664140e+05,\n",
       "        5.9445120e+05, 7.4226100e+05, 8.9007080e+05, 1.0378806e+06,\n",
       "        1.1856904e+06, 1.3335002e+06, 1.4813100e+06, 1.6291198e+06,\n",
       "        1.7769296e+06, 1.9247394e+06, 2.0725492e+06, 2.2203590e+06,\n",
       "        2.3681688e+06, 2.5159786e+06, 2.6637884e+06, 2.8115982e+06,\n",
       "        2.9594080e+06, 3.1072178e+06, 3.2550276e+06, 3.4028374e+06,\n",
       "        3.5506472e+06, 3.6984570e+06, 3.8462668e+06, 3.9940766e+06,\n",
       "        4.1418864e+06, 4.2896962e+06, 4.4375060e+06]),\n",
       " <a list of 30 Patch objects>)"
      ]
     },
     "execution_count": 23,
     "metadata": {},
     "output_type": "execute_result"
    },
    {
     "data": {
      "image/png": "[encoded data removed]",
      "text/plain": [
       "<Figure size 432x288 with 1 Axes>"
      ]
     },
     "metadata": {
      "needs_background": "light"
     },
     "output_type": "display_data"
    }
   ],
   "source": [
    "#read in the case table\n",
    "fpath = os.path.join(\"data\", \"casetable.psv\")\n",
    "df = pd.read_csv(fpath, sep = \"|\", low_memory=False)\n",
    "df_census = pd.read_csv(os.path.join(\"data\", \"census2017.csv\"))\n",
    "\n",
    "merged_df = pd.merge(df, df_census, left_on=\"Site Zip Code\", right_on='Zipcode')\n",
    "\n",
    "plt.hist(df['Assessed Value'], density=True, bins=30)"
   ]
  },
  {
   "cell_type": "code",
   "execution_count": 26,
   "metadata": {},
   "outputs": [
    {
     "data": {
      "image/png": "[encoded data removed]",
      "text/plain": [
       "<Figure size 432x288 with 1 Axes>"
      ]
     },
     "metadata": {
      "needs_background": "light"
     },
     "output_type": "display_data"
    }
   ],
   "source": [
    "plt.ylabel('AssessedValue')\n",
    "\n",
    "plt.hist(merged_df['Number Of Bedrooms'], density=True, bins=30)\n",
    "plt.ylabel('Number Of Bedrooms')\n",
    "\n",
    "merged_df = merged_df[merged_df[ycol]<1000000]\n",
    "merged_df = merged_df[merged_df['Number Of Bedrooms']<10]\n",
    "merged_df.fillna(-999,inplace = True)\n",
    "\n",
    "y = merged_df[ycol]\n",
    "\n",
    "#TODO: Specify the features of the model instead of dropping fields\n"
   ]
  },
  {
   "cell_type": "code",
   "execution_count": 27,
   "metadata": {},
   "outputs": [],
   "source": [
    "def split(df, pct=.7):\n",
    "    tr, xv = [], []\n",
    "     \n",
    "    indices = [x for x in df.index]\n",
    "    random.shuffle(indices)\n",
    " \n",
    "    for ind in indices:\n",
    "        if np.random.rand() <= pct:\n",
    "            tr.append(ind)\n",
    "        else:\n",
    "            xv.append(ind)\n",
    " \n",
    "    return tr, xv"
   ]
  },
  {
   "cell_type": "code",
   "execution_count": 28,
   "metadata": {},
   "outputs": [],
   "source": [
    "tr_indices, xv_indices = split(merged_df)\n",
    "\n",
    "features_tr = merged_df.loc[tr_indices, train_cols]\n",
    "features_xval = merged_df.loc[xv_indices, train_cols]\n",
    "y_tr = y.loc[tr_indices]\n",
    "y_xval = y.loc[xv_indices]"
   ]
  },
  {
   "cell_type": "code",
   "execution_count": 29,
   "metadata": {},
   "outputs": [
    {
     "name": "stdout",
     "output_type": "stream",
     "text": [
      "Zipcode [32234 32219 32220 32221 32222 32218 32208 32225 32254 32205 32210 32244\n",
      " 32257 32202 32209 32206 32204 32207 32217 32223 32226 32216 32277 32211\n",
      " 32246 32256 32258 32224 32250 32081 32233 32266]\n",
      "doc acres [1.82  1.21  0.    ... 0.025 1.264 1.375]\n",
      "building style code [1 8 3]\n",
      "building class code [4 3 2 5 1]\n",
      "quality code [3 2 1 4 5 6]\n",
      "actual year built [1980 1955 1941 1967 1989 1991 1996 2000 1939 1973 1985 1961 1974 1992\n",
      " 2001 1968 1931 1983 1958 1975 1987 1953 1963 1998 1924 1966 1979 2008\n",
      " 1969 2004 1960 1943 1952 1948 1921 1908 1926 1971 2006 1914 2015 2016\n",
      " 2003 1984 1937 1981 1977 1962 1954 1949 1957 1930 1936 1942 1990 1972\n",
      " 1944 1934 1946 2011 2005 1959 1925 1950 1964 1956 1965 1993 1999 1995\n",
      " 1976 2007 1988 2013 1920 2002 2010 1994 2012 2009 1911 1922 1970 1945\n",
      " 1986 1940 2018 1947 1951 1935 1978 2014 1982 2017 1909 1997 1933 1915\n",
      " 1929 1932 1928 1896 1918 1927 1919 1923 1938 1910 1917 1902 1904 1916\n",
      " 1905 1899 1913 1912 1901 1900 1907 1888 1906 1903 1884 1898 1887 1897\n",
      " 1892 1894 1854 1872 1848 1882 1880 1885 1877]\n",
      "effective year built [1980 1955 1941 1967 1989 1991 1996 2000 1939 1990 1985 1961 1974 1992\n",
      " 2001 1960 1968 1931 1983 1958 1975 1987 1953 1963 1998 1924 1966 1979\n",
      " 2008 1969 2004 1943 1952 1995 1940 1971 2006 1950 2015 2016 2003 1984\n",
      " 1937 1981 1977 1962 1954 1949 1957 1930 1972 1942 1944 1946 2011 2005\n",
      " 1959 1964 1956 1965 1993 1999 1976 1973 2007 1988 2013 2002 2010 1994\n",
      " 2012 2009 1936 1970 1945 1986 1948 2018 1947 1951 1935 2014 1982 2017\n",
      " 1978 1997 1933 1926 1934 1929 1932 1928 1919 1923 1925 1918 1938 1920\n",
      " 1922 1917 1927 1921 1911 1915 1904 1914 1916 1909 1905 1910 1908 1912\n",
      " 1888 1913 1899 1906 1901 1900 1877 1907 1894]\n",
      "building heated area [2228 1040 2731 ... 5505 4101 4647]\n",
      "Number Of Bedrooms [3 4 1 2 5 6 7 0 8]\n",
      "Number Of Bathrooms [  2   1   4   3   5   6   0   7   8 305  20]\n",
      "Number Of Rooms [ 1  2  0 21]\n",
      "MedianIncome [ 52330  46580  53112  59801  64036  51447  33425  69233  29226  43054\n",
      "  43177  49871  54347  28025  23890  25757  40417  45214  46065  79722\n",
      "  78729  50648  47141  38025  53720  59624  79866  72590  70383 114048\n",
      "  57345  79333]\n",
      "MilitaryServiceRate [0.00062344 0.00069846 0.00218818 0.00460183 0.01149272 0.01801376\n",
      " 0.         0.02440483 0.00515687 0.0053768  0.01841045 0.00241554\n",
      " 0.00342877 0.0015589  0.01154664 0.0010745  0.00095359 0.00346544\n",
      " 0.01252462 0.00577868 0.0056509  0.00342956 0.01600271 0.00390254\n",
      " 0.00729136 0.00995881 0.00686813 0.00764976 0.12163519 0.00201241]\n",
      "UnemploymentRate [0.06961762 0.05158651 0.04622538 0.04049612 0.04102633 0.0427773\n",
      " 0.083549   0.03972398 0.10310421 0.04662853 0.07295873 0.07284899\n",
      " 0.04038777 0.02125836 0.0659172  0.06925989 0.02901854 0.03352436\n",
      " 0.03636364 0.03021281 0.0297755  0.05229702 0.05089996 0.06350343\n",
      " 0.04834655 0.02574596 0.0297071  0.02655683 0.02047146 0.03471814\n",
      " 0.02988286 0.04511152]\n",
      "EducationLevel [2.27701201 2.55159971 2.59542144 2.66459311 2.91633828 2.73927826\n",
      " 2.42584399 3.03583371 2.26545535 2.84172944 2.7103546  2.77774624\n",
      " 3.03022245 2.95649685 2.27753133 2.37240971 3.02512303 2.88401467\n",
      " 2.92832427 3.17965141 2.84595635 2.94657817 2.85195699 2.61162103\n",
      " 2.96037343 3.31708312 3.34750193 3.27326131 3.26535686 3.46129542\n",
      " 2.99233961 3.43156425]\n",
      "PovertyRate [0.12384653 0.13562962 0.14443806 0.14220445 0.10514933 0.13964118\n",
      " 0.26116244 0.06418594 0.32797944 0.23562339 0.2048955  0.1733569\n",
      " 0.09548165 0.49672831 0.41276206 0.35022958 0.26947602 0.19665415\n",
      " 0.11421661 0.0728735  0.07965091 0.21369295 0.13054439 0.1983628\n",
      " 0.14559685 0.10309185 0.03978587 0.07306319 0.08236052 0.01273995\n",
      " 0.11335959 0.12848999]\n",
      "PctWhereRentIsMoreThan35PctOfIncome [0.1901528  0.37285903 0.33264676 0.33696075 0.40122699 0.37752716\n",
      " 0.48538123 0.39864306 0.51617076 0.37348301 0.45337863 0.40383491\n",
      " 0.42964997 0.18717617 0.4820003  0.4770318  0.39560835 0.35696788\n",
      " 0.37720706 0.29398907 0.24767802 0.40108572 0.43472486 0.43389388\n",
      " 0.34921678 0.32076557 0.22922078 0.3786295  0.28763374 0.12532982\n",
      " 0.36754235 0.41259501]\n"
     ]
    }
   ],
   "source": [
    "for col in train_cols:\n",
    "    print(col, merged_df[col].unique())"
   ]
  },
  {
   "cell_type": "code",
   "execution_count": 30,
   "metadata": {},
   "outputs": [
    {
     "name": "stdout",
     "output_type": "stream",
     "text": [
      "tr MSE 3874734773.288759 xval MSE 4016337333.024888\n"
     ]
    }
   ],
   "source": [
    "#create split function\n",
    "random.seed(19860406)\n",
    "np.random.seed(19860406)\n",
    "\n",
    "rfc = RandomForestRegressor(\n",
    "        max_depth = 5, \n",
    "        n_estimators = 25, \n",
    "        min_samples_leaf = 15)\n",
    "\n",
    "rfc.fit(features_tr, y_tr.values.ravel())\n",
    "\n",
    "tr_yhat2 = rfc.predict(features_tr)\n",
    "xval_yhat2 = rfc.predict(features_xval)\n",
    "\n",
    "tr_MSE = metrics.mean_squared_error(y_tr, tr_yhat2)\n",
    "xval_MSE = metrics.mean_squared_error(y_xval, xval_yhat2)\n",
    "\n",
    "print('tr MSE {} xval MSE {}'.format(tr_MSE, xval_MSE))\n"
   ]
  },
  {
   "cell_type": "code",
   "execution_count": 31,
   "metadata": {},
   "outputs": [],
   "source": [
    "with open(os.path.join(\".model\", 'model.pckl'), 'wb') as f:\n",
    "   pickle.dump(rfc, f,  pickle.HIGHEST_PROTOCOL)"
   ]
  },
  {
   "cell_type": "code",
   "execution_count": null,
   "metadata": {},
   "outputs": [],
   "source": []
  }
 ],
 "metadata": {
  "kernelspec": {
   "display_name": "Python 3",
   "language": "python",
   "name": "python3"
  },
  "language_info": {
   "codemirror_mode": {
    "name": "ipython",
    "version": 3
   },
   "file_extension": ".py",
   "mimetype": "text/x-python",
   "name": "python",
   "nbconvert_exporter": "python",
   "pygments_lexer": "ipython3",
   "version": "3.7.3"
  }
 },
 "nbformat": 4,
 "nbformat_minor": 2
}
