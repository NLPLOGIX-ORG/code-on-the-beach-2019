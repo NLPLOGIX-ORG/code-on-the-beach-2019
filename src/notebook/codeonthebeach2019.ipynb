{
 "cells": [
  {
   "cell_type": "code",
   "execution_count": 1,
   "metadata": {},
   "outputs": [],
   "source": [
    "#import libraries, set seed \n",
    "from sklearn.ensemble import RandomForestRegressor\n",
    "from sklearn import metrics\n",
    "import pandas as pd\n",
    "import numpy as np\n",
    "import os, random, pickle, sys\n",
    "import matplotlib.pyplot as plt\n",
    "from sklearn.tree import export_graphviz\n",
    "\n",
    "from features import Features\n",
    "\n",
    "random.seed(19860406)\n",
    "np.random.seed(19860406)"
   ]
  },
  {
   "cell_type": "code",
   "execution_count": 2,
   "metadata": {},
   "outputs": [],
   "source": [
    "#read in and join the necessary data \n",
    "fpath = os.path.join(\"data\", \"casetable.psv\")\n",
    "df = pd.read_csv(fpath, sep = \"|\", low_memory=False)\n",
    "df_census = pd.read_csv(os.path.join(\"data\", \"census2017.csv\"))\n",
    "merged_df = pd.merge(df, df_census, left_on=\"Site Zip Code\", right_on='ZipCode')"
   ]
  },
  {
   "cell_type": "code",
   "execution_count": 3,
   "metadata": {
    "scrolled": true
   },
   "outputs": [
    {
     "data": {
      "text/plain": [
       "Text(0, 0.5, 'Value')"
      ]
     },
     "execution_count": 3,
     "metadata": {},
     "output_type": "execute_result"
    },
    {
     "data": {
      "image/png": "[encoded data removed]",
      "text/plain": [
       "<Figure size 432x288 with 1 Axes>"
      ]
     },
     "metadata": {
      "needs_background": "light"
     },
     "output_type": "display_data"
    }
   ],
   "source": [
    "#plot potential y=value \n",
    "plt.ylabel('AssessedValue')\n",
    "plt.hist(merged_df['Assessed Value'], density=True, bins=30)\n",
    "plt.ylabel('Value')"
   ]
  },
  {
   "cell_type": "code",
   "execution_count": 4,
   "metadata": {},
   "outputs": [
    {
     "data": {
      "text/plain": [
       "Text(0, 0.5, 'Number Of Bedrooms')"
      ]
     },
     "execution_count": 4,
     "metadata": {},
     "output_type": "execute_result"
    },
    {
     "data": {
      "image/png": "[encoded data removed]",
      "text/plain": [
       "<Figure size 432x288 with 1 Axes>"
      ]
     },
     "metadata": {
      "needs_background": "light"
     },
     "output_type": "display_data"
    }
   ],
   "source": [
    "#plot variables to look for outliers \n",
    "plt.hist(merged_df['Number Of Bedrooms'], density=True, bins=30)\n",
    "plt.ylabel('Number Of Bedrooms')"
   ]
  },
  {
   "cell_type": "code",
   "execution_count": 5,
   "metadata": {},
   "outputs": [],
   "source": [
    "#filter out data as necessary\n",
    "merged_df = merged_df[merged_df['Assessed Value']<1000000]\n",
    "merged_df = merged_df[merged_df['Number Of Bedrooms']<10]\n",
    "merged_df = merged_df[merged_df['Number Of Bathrooms']<9]\n",
    "merged_df.fillna(-999,inplace = True)"
   ]
  },
  {
   "cell_type": "code",
   "execution_count": 6,
   "metadata": {},
   "outputs": [],
   "source": [
    "#define data columns \n",
    "train_cols = [\"ZipCode\",\n",
    "              \"doc acres\",\n",
    "              \"building style code\", \n",
    "              \"building class code\", \n",
    "              \"quality code\",\n",
    "              \"actual year built\",\n",
    "              \"effective year built\",\n",
    "              \"building heated area\",\n",
    "              \"Number Of Bedrooms\",\n",
    "              \"Number Of Bathrooms\",\n",
    "              \"Number Of Rooms\",\n",
    "              \"MedianIncome\",\n",
    "              \"MilitaryServiceRate\",\n",
    "              \"UnemploymentRate\",\n",
    "              \"EducationLevel\",\n",
    "              \"PovertyRate\",\n",
    "              \"PctWhereRentIsMoreThan35PctOfIncome\"\n",
    "             ]\n",
    "\n",
    "meta_cols  = [\"Parcel Number\"]\n",
    "ycol = \"Assessed Value\""
   ]
  },
  {
   "cell_type": "code",
   "execution_count": 7,
   "metadata": {},
   "outputs": [
    {
     "name": "stdout",
     "output_type": "stream",
     "text": [
      "ZipCode [32234 32219 32220 32221 32222 32218 32208 32225 32254 32205 32210 32244\n",
      " 32257 32202 32209 32206 32204 32207 32217 32223 32226 32216 32277 32211\n",
      " 32246 32256 32258 32224 32250 32081 32233 32266]\n",
      "doc acres [1.82  1.21  0.    ... 0.025 1.264 1.375]\n",
      "building style code [1 8 3]\n",
      "building class code [4 3 2 5 1]\n",
      "quality code [3 2 1 4 5 6]\n",
      "actual year built [1980 1955 1941 1967 1989 1991 1996 2000 1939 1973 1985 1961 1974 1992\n",
      " 2001 1968 1931 1983 1958 1975 1987 1953 1963 1998 1924 1966 1979 2008\n",
      " 1969 2004 1960 1943 1952 1948 1921 1908 1926 1971 2006 1914 2015 2016\n",
      " 2003 1984 1937 1981 1977 1962 1954 1949 1957 1930 1936 1942 1990 1972\n",
      " 1944 1934 1946 2011 2005 1959 1925 1950 1964 1956 1965 1993 1999 1995\n",
      " 1976 2007 1988 2013 1920 2002 2010 1994 2012 2009 1911 1922 1970 1945\n",
      " 1986 1940 2018 1947 1951 1935 1978 2014 1982 2017 1909 1997 1933 1915\n",
      " 1929 1932 1928 1896 1918 1927 1919 1923 1938 1910 1917 1902 1904 1916\n",
      " 1905 1899 1913 1912 1901 1900 1907 1888 1906 1903 1884 1898 1887 1897\n",
      " 1892 1894 1854 1872 1848 1882 1880 1885 1877]\n",
      "effective year built [1980 1955 1941 1967 1989 1991 1996 2000 1939 1990 1985 1961 1974 1992\n",
      " 2001 1960 1968 1931 1983 1958 1975 1987 1953 1963 1998 1924 1966 1979\n",
      " 2008 1969 2004 1943 1952 1995 1940 1971 2006 1950 2015 2016 2003 1984\n",
      " 1937 1981 1977 1962 1954 1949 1957 1930 1972 1942 1944 1946 2011 2005\n",
      " 1959 1964 1956 1965 1993 1999 1976 1973 2007 1988 2013 2002 2010 1994\n",
      " 2012 2009 1936 1970 1945 1986 1948 2018 1947 1951 1935 2014 1982 2017\n",
      " 1978 1997 1933 1926 1934 1929 1932 1928 1919 1923 1925 1918 1938 1920\n",
      " 1922 1917 1927 1921 1911 1915 1904 1914 1916 1909 1905 1910 1908 1912\n",
      " 1888 1913 1899 1906 1901 1900 1877 1907 1894]\n",
      "building heated area [2228 1040 2731 ... 5505 4101 4647]\n",
      "Number Of Bedrooms [3 4 1 2 5 6 7 0 8]\n",
      "Number Of Bathrooms [2 1 4 3 5 6 0 7 8]\n",
      "Number Of Rooms [ 1  2  0 21]\n",
      "MedianIncome [ 52330  46580  53112  59801  64036  51447  33425  69233  29226  43054\n",
      "  43177  49871  54347  28025  23890  25757  40417  45214  46065  79722\n",
      "  78729  50648  47141  38025  53720  59624  79866  72590  70383 114048\n",
      "  57345  79333]\n",
      "MilitaryServiceRate [0.00062344 0.00069846 0.00218818 0.00460183 0.01149272 0.01801376\n",
      " 0.         0.02440483 0.00515687 0.0053768  0.01841045 0.00241554\n",
      " 0.00342877 0.0015589  0.01154664 0.0010745  0.00095359 0.00346544\n",
      " 0.01252462 0.00577868 0.0056509  0.00342956 0.01600271 0.00390254\n",
      " 0.00729136 0.00995881 0.00686813 0.00764976 0.12163519 0.00201241]\n",
      "UnemploymentRate [0.06961762 0.05158651 0.04622538 0.04049612 0.04102633 0.0427773\n",
      " 0.083549   0.03972398 0.10310421 0.04662853 0.07295873 0.07284899\n",
      " 0.04038777 0.02125836 0.0659172  0.06925989 0.02901854 0.03352436\n",
      " 0.03636364 0.03021281 0.0297755  0.05229702 0.05089996 0.06350343\n",
      " 0.04834655 0.02574596 0.0297071  0.02655683 0.02047146 0.03471814\n",
      " 0.02988286 0.04511152]\n",
      "EducationLevel [2.27701201 2.55159971 2.59542144 2.66459311 2.91633828 2.73927826\n",
      " 2.42584399 3.03583371 2.26545535 2.84172944 2.7103546  2.77774624\n",
      " 3.03022245 2.95649685 2.27753133 2.37240971 3.02512303 2.88401467\n",
      " 2.92832427 3.17965141 2.84595635 2.94657817 2.85195699 2.61162103\n",
      " 2.96037343 3.31708312 3.34750193 3.27326131 3.26535686 3.46129542\n",
      " 2.99233961 3.43156425]\n",
      "PovertyRate [0.12384653 0.13562962 0.14443806 0.14220445 0.10514933 0.13964118\n",
      " 0.26116244 0.06418594 0.32797944 0.23562339 0.2048955  0.1733569\n",
      " 0.09548165 0.49672831 0.41276206 0.35022958 0.26947602 0.19665415\n",
      " 0.11421661 0.0728735  0.07965091 0.21369295 0.13054439 0.1983628\n",
      " 0.14559685 0.10309185 0.03978587 0.07306319 0.08236052 0.01273995\n",
      " 0.11335959 0.12848999]\n",
      "PctWhereRentIsMoreThan35PctOfIncome [0.1901528  0.37285903 0.33264676 0.33696075 0.40122699 0.37752716\n",
      " 0.48538123 0.39864306 0.51617076 0.37348301 0.45337863 0.40383491\n",
      " 0.42964997 0.18717617 0.4820003  0.4770318  0.39560835 0.35696788\n",
      " 0.37720706 0.29398907 0.24767802 0.40108572 0.43472486 0.43389388\n",
      " 0.34921678 0.32076557 0.22922078 0.3786295  0.28763374 0.12532982\n",
      " 0.36754235 0.41259501]\n"
     ]
    }
   ],
   "source": [
    "for col in train_cols:\n",
    "    print(col, merged_df[col].unique())"
   ]
  },
  {
   "cell_type": "code",
   "execution_count": 8,
   "metadata": {},
   "outputs": [],
   "source": [
    "#create a function to split the data \n",
    "def split(df, pct=.7):\n",
    "    tr, xv = [], []\n",
    "     \n",
    "    indices = [x for x in df.index]\n",
    "    random.shuffle(indices)\n",
    " \n",
    "    for ind in indices:\n",
    "        if np.random.rand() <= pct:\n",
    "            tr.append(ind)\n",
    "        else:\n",
    "            xv.append(ind)\n",
    " \n",
    "    return tr, xv"
   ]
  },
  {
   "cell_type": "code",
   "execution_count": 9,
   "metadata": {},
   "outputs": [],
   "source": [
    "#split into test and train. \n",
    "tr_indices, xv_indices = split(merged_df)"
   ]
  },
  {
   "cell_type": "code",
   "execution_count": 10,
   "metadata": {},
   "outputs": [
    {
     "data": {
      "text/plain": [
       "RandomForestRegressor(bootstrap=True, criterion='mse', max_depth=None,\n",
       "           max_features='auto', max_leaf_nodes=None,\n",
       "           min_impurity_decrease=0.0, min_impurity_split=None,\n",
       "           min_samples_leaf=15, min_samples_split=2,\n",
       "           min_weight_fraction_leaf=0.0, n_estimators=50, n_jobs=None,\n",
       "           oob_score=False, random_state=None, verbose=0, warm_start=False)"
      ]
     },
     "execution_count": 10,
     "metadata": {},
     "output_type": "execute_result"
    }
   ],
   "source": [
    "#fit the model\n",
    "rfc = RandomForestRegressor(\n",
    "        n_estimators = 50, \n",
    "        min_samples_leaf = 15)\n",
    "\n",
    "rfc.fit(merged_df[train_cols].loc[tr_indices],merged_df[ycol].loc[tr_indices])"
   ]
  },
  {
   "cell_type": "code",
   "execution_count": 11,
   "metadata": {},
   "outputs": [],
   "source": [
    "#fit the predicted values\n",
    "tr_yhat = rfc.predict(merged_df[train_cols].loc[tr_indices])\n",
    "xval_yhat = rfc.predict(merged_df[train_cols].loc[xv_indices])"
   ]
  },
  {
   "cell_type": "code",
   "execution_count": 12,
   "metadata": {},
   "outputs": [
    {
     "name": "stdout",
     "output_type": "stream",
     "text": [
      "tr MSE 1954635893.3738203 xval MSE 2485924452.559436\n",
      "tr sq(MSE) 44211.26432679595 xval sq(MSE) 49859.045844855835\n"
     ]
    }
   ],
   "source": [
    "#test of model accuracies - Mean Squared Error\n",
    "\n",
    "##### note - we use Mean squared error here, but mean absolute percentage error(MAPE) and \n",
    "##### mean absolute error (MAE) are also fair possibilities for regression based problems\n",
    "tr_MSE = metrics.mean_squared_error(merged_df[ycol].loc[tr_indices], tr_yhat)\n",
    "xval_MSE = metrics.mean_squared_error(merged_df[ycol].loc[xv_indices], xval_yhat)\n",
    "\n",
    "print('tr MSE {} xval MSE {}'.format(tr_MSE, xval_MSE))\n",
    "print('tr sq(MSE) {} xval sq(MSE) {}'.format(tr_MSE**.5, xval_MSE**.5))\n"
   ]
  },
  {
   "cell_type": "code",
   "execution_count": 13,
   "metadata": {},
   "outputs": [
    {
     "data": {
      "text/plain": [
       "Text(0, 0.5, 'Number Of Bedrooms')"
      ]
     },
     "execution_count": 13,
     "metadata": {},
     "output_type": "execute_result"
    },
    {
     "data": {
      "image/png": "[encoded data removed]",
      "text/plain": [
       "<Figure size 432x288 with 1 Axes>"
      ]
     },
     "metadata": {
      "needs_background": "light"
     },
     "output_type": "display_data"
    }
   ],
   "source": [
    "#plot the errors \n",
    "plt.hist(merged_df[ycol].loc[tr_indices]-tr_yhat, density=True, bins=30)\n",
    "plt.ylabel('Number Of Bedrooms')\n",
    "\n",
    "###### note: our errors should be centered around zero. If the hump in the distribution is not around the zero mark\n",
    "###### or has multiple humps, we have a major problem"
   ]
  },
  {
   "cell_type": "code",
   "execution_count": 14,
   "metadata": {},
   "outputs": [],
   "source": [
    "#serialize model\n",
    "with open(os.path.join(\".model\", 'model.pckl'), 'wb') as f:\n",
    "   pickle.dump(rfc, f,  pickle.HIGHEST_PROTOCOL)"
   ]
  },
  {
   "cell_type": "code",
   "execution_count": 15,
   "metadata": {},
   "outputs": [],
   "source": [
    "########################################################################################\n",
    "## Second fit - this time with some engineered features                               ##\n",
    "########################################################################################"
   ]
  },
  {
   "cell_type": "code",
   "execution_count": 16,
   "metadata": {},
   "outputs": [],
   "source": [
    "#feature engineering \n",
    "features = Features()\n",
    "new_df = features.compute(merged_df)\n"
   ]
  },
  {
   "cell_type": "code",
   "execution_count": 17,
   "metadata": {},
   "outputs": [],
   "source": [
    "#Replace NAs and Infinite Values with -999s \n",
    "new_df.fillna(-999,inplace = True)"
   ]
  },
  {
   "cell_type": "code",
   "execution_count": 18,
   "metadata": {},
   "outputs": [],
   "source": [
    "#define data columns \n",
    "train_cols = [\"ZipCode\",\n",
    "              \"doc acres\",\n",
    "              \"building style code\", \n",
    "              \"building class code\", \n",
    "              \"quality code\",\n",
    "              \"actual year built\",\n",
    "              \"effective year built\",\n",
    "              \"building heated area\",\n",
    "              \"Number Of Bedrooms\",\n",
    "              \"Number Of Bathrooms\",\n",
    "              \"Number Of Rooms\",\n",
    "              \"MedianIncome\",\n",
    "              \"MilitaryServiceRate\",\n",
    "              \"UnemploymentRate\",\n",
    "              \"EducationLevel\",\n",
    "              \"PovertyRate\",\n",
    "              \"PctWhereRentIsMoreThan35PctOfIncome\",\n",
    "              \"LastReno\",\n",
    "              \"IsTownhouse\",\n",
    "              \"IsCondo\",\n",
    "              \"IsSingleFamily\",\n",
    "              \"IsJacksonville\",\n",
    "              \"IsAtTheBeach\",\n",
    "              \"IsPonteVedra\",\n",
    "              \"HZ1\",\n",
    "              \"HZ2\",\n",
    "              \"HZ3\",\n",
    "              \"HZ4\",\n",
    "              \"HZ5\",\n",
    "              \"AdjustedArea_ZIP\",\n",
    "              \"AdjustedArea_Rooms\"\n",
    "             ]\n"
   ]
  },
  {
   "cell_type": "code",
   "execution_count": 19,
   "metadata": {},
   "outputs": [
    {
     "data": {
      "text/plain": [
       "RandomForestRegressor(bootstrap=True, criterion='mse', max_depth=None,\n",
       "           max_features='auto', max_leaf_nodes=None,\n",
       "           min_impurity_decrease=0.0, min_impurity_split=None,\n",
       "           min_samples_leaf=15, min_samples_split=2,\n",
       "           min_weight_fraction_leaf=0.0, n_estimators=50, n_jobs=None,\n",
       "           oob_score=False, random_state=None, verbose=0, warm_start=False)"
      ]
     },
     "execution_count": 19,
     "metadata": {},
     "output_type": "execute_result"
    }
   ],
   "source": [
    "#fit the model\n",
    "rfc.fit(new_df[train_cols].loc[tr_indices],new_df[ycol].loc[tr_indices])"
   ]
  },
  {
   "cell_type": "code",
   "execution_count": 20,
   "metadata": {},
   "outputs": [],
   "source": [
    "#fit the predicted values\n",
    "tr_yhat = rfc.predict(new_df[train_cols].loc[tr_indices])\n",
    "xval_yhat = rfc.predict(new_df[train_cols].loc[xv_indices])"
   ]
  },
  {
   "cell_type": "code",
   "execution_count": 21,
   "metadata": {},
   "outputs": [
    {
     "name": "stdout",
     "output_type": "stream",
     "text": [
      "tr MSE 1870146864.3197966 xval MSE 2423743486.9783125\n",
      "tr sq(MSE) 43245.19469628732 xval sq(MSE) 49231.529399139254\n"
     ]
    }
   ],
   "source": [
    "#test of model accuracies - Mean Squared Error\n",
    "\n",
    "##### note - we use Mean squared error here, but mean absolute percentage error(MAPE) and \n",
    "##### mean absolute error (MAE) are also fair possibilities for regression based problems\n",
    "tr_MSE = metrics.mean_squared_error(new_df[ycol].loc[tr_indices], tr_yhat)\n",
    "xval_MSE = metrics.mean_squared_error(new_df[ycol].loc[xv_indices], xval_yhat)\n",
    "\n",
    "print('tr MSE {} xval MSE {}'.format(tr_MSE, xval_MSE))\n",
    "print('tr sq(MSE) {} xval sq(MSE) {}'.format(tr_MSE**.5, xval_MSE**.5))\n"
   ]
  },
  {
   "cell_type": "code",
   "execution_count": 22,
   "metadata": {},
   "outputs": [],
   "source": [
    "########################################################################################\n",
    "## Third fit - this time with some parameter tuning                                   ##\n",
    "########################################################################################"
   ]
  }
 ],
 "metadata": {
  "kernelspec": {
   "display_name": "Python 3",
   "language": "python",
   "name": "python3"
  },
  "language_info": {
   "codemirror_mode": {
    "name": "ipython",
    "version": 3
   },
   "file_extension": ".py",
   "mimetype": "text/x-python",
   "name": "python",
   "nbconvert_exporter": "python",
   "pygments_lexer": "ipython3",
   "version": "3.7.3"
  }
 },
 "nbformat": 4,
 "nbformat_minor": 2
}
