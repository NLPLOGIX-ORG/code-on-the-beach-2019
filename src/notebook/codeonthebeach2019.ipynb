{
 "cells": [
  {
   "cell_type": "code",
   "execution_count": 30,
   "metadata": {},
   "outputs": [],
   "source": [
    "from sklearn.ensemble import RandomForestRegressor\n",
    "from sklearn import metrics\n",
    "from sklearn.utils import resample \n",
    "import pandas as pd\n",
    "import numpy as np\n",
    "import os, random\n",
    "import matplotlib.pyplot as plt\n",
    "from sklearn.tree import export_graphviz\n",
    "import pickle "
   ]
  },
  {
   "cell_type": "code",
   "execution_count": 31,
   "metadata": {},
   "outputs": [
    {
     "ename": "NameError",
     "evalue": "name 'census' is not defined",
     "output_type": "error",
     "traceback": [
      "\u001b[0;31m---------------------------------------------------------------------------\u001b[0m",
      "\u001b[0;31mNameError\u001b[0m                                 Traceback (most recent call last)",
      "\u001b[0;32m<ipython-input-31-1f23cee5cad6>\u001b[0m in \u001b[0;36m<module>\u001b[0;34m\u001b[0m\n\u001b[1;32m      4\u001b[0m \u001b[0mdf_census\u001b[0m \u001b[0;34m=\u001b[0m \u001b[0mpd\u001b[0m\u001b[0;34m.\u001b[0m\u001b[0mread_csv\u001b[0m\u001b[0;34m(\u001b[0m\u001b[0mos\u001b[0m\u001b[0;34m.\u001b[0m\u001b[0mpath\u001b[0m\u001b[0;34m.\u001b[0m\u001b[0mjoin\u001b[0m\u001b[0;34m(\u001b[0m\u001b[0;34m\"data\"\u001b[0m\u001b[0;34m,\u001b[0m \u001b[0;34m\"census2017.csv\"\u001b[0m\u001b[0;34m)\u001b[0m\u001b[0;34m)\u001b[0m\u001b[0;34m\u001b[0m\u001b[0;34m\u001b[0m\u001b[0m\n\u001b[1;32m      5\u001b[0m \u001b[0;34m\u001b[0m\u001b[0m\n\u001b[0;32m----> 6\u001b[0;31m \u001b[0mdf\u001b[0m \u001b[0;34m=\u001b[0m \u001b[0mpd\u001b[0m\u001b[0;34m.\u001b[0m\u001b[0mmerge\u001b[0m\u001b[0;34m(\u001b[0m\u001b[0mdf\u001b[0m\u001b[0;34m,\u001b[0m \u001b[0mcensus\u001b[0m\u001b[0;34m,\u001b[0m \u001b[0mleft_on\u001b[0m\u001b[0;34m=\u001b[0m\u001b[0;34m'Zipcode'\u001b[0m\u001b[0;34m,\u001b[0m \u001b[0mright_on\u001b[0m\u001b[0;34m=\u001b[0m\u001b[0;34m'ZipCode'\u001b[0m\u001b[0;34m)\u001b[0m\u001b[0;34m\u001b[0m\u001b[0;34m\u001b[0m\u001b[0m\n\u001b[0m\u001b[1;32m      7\u001b[0m \u001b[0;34m\u001b[0m\u001b[0m\n\u001b[1;32m      8\u001b[0m \u001b[0mplt\u001b[0m\u001b[0;34m.\u001b[0m\u001b[0mhist\u001b[0m\u001b[0;34m(\u001b[0m\u001b[0mdf\u001b[0m\u001b[0;34m[\u001b[0m\u001b[0;34m'Assessed Value'\u001b[0m\u001b[0;34m]\u001b[0m\u001b[0;34m,\u001b[0m \u001b[0mdensity\u001b[0m\u001b[0;34m=\u001b[0m\u001b[0;32mTrue\u001b[0m\u001b[0;34m,\u001b[0m \u001b[0mbins\u001b[0m\u001b[0;34m=\u001b[0m\u001b[0;36m30\u001b[0m\u001b[0;34m)\u001b[0m\u001b[0;34m\u001b[0m\u001b[0;34m\u001b[0m\u001b[0m\n",
      "\u001b[0;31mNameError\u001b[0m: name 'census' is not defined"
     ]
    }
   ],
   "source": [
    "#read in the case table\n",
    "fpath = os.path.join(\"data\", \"casetable.psv\")\n",
    "df = pd.read_csv(fpath, sep = \"|\", low_memory=False)\n",
    "df_census = pd.read_csv(os.path.join(\"data\", \"census2017.csv\"))\n",
    "\n",
    "df = pd.merge(df, census, left_on='Zipcode', right_on='ZipCode')\n",
    "\n",
    "plt.hist(df['Assessed Value'], density=True, bins=30)"
   ]
  },
  {
   "cell_type": "code",
   "execution_count": 32,
   "metadata": {},
   "outputs": [
    {
     "data": {
      "image/png": "[encoded data removed]",
      "text/plain": [
       "<Figure size 432x288 with 1 Axes>"
      ]
     },
     "metadata": {
      "needs_background": "light"
     },
     "output_type": "display_data"
    }
   ],
   "source": [
    "plt.ylabel('AssessedValue')\n",
    "\n",
    "plt.hist(df['Number Of Bedrooms'], density=True, bins=30)\n",
    "plt.ylabel('Number Of Bedrooms')\n",
    "\n",
    "df = df[df['Assessed Value']<1000000]\n",
    "df = df[df['Number Of Bedrooms']<10]\n",
    "df.fillna(-999,inplace = True)\n",
    "\n",
    "y = df['Assessed Value']\n",
    "\n",
    "#TODO: Specify the features of the model instead of dropping fields\n",
    "\n",
    "df.drop(['Parcel Number','Section','Township','Total Market Value',\n",
    "         'Assessed Value','Total Just Value', 'Site Address Number',\n",
    "         'Site Address Street Name','Site Address Street Type',\n",
    "         'Site Address Unit Number','Site Address City','Building Number',\n",
    "         'Exemption Code','Site Zip Code',\n",
    "         'Amenity Item Code', \"building value\", \"building type code\", \"Number Of Stories\"], axis = 1, \n",
    "         inplace = True)"
   ]
  },
  {
   "cell_type": "code",
   "execution_count": 33,
   "metadata": {},
   "outputs": [],
   "source": [
    "def split(df, pct=.7):\n",
    "    tr, xv = [], []\n",
    "     \n",
    "    indices = [x for x in df.index]\n",
    "    random.shuffle(indices)\n",
    " \n",
    "    for ind in indices:\n",
    "        if np.random.rand() <= pct:\n",
    "            tr.append(ind)\n",
    "        else:\n",
    "            xv.append(ind)\n",
    " \n",
    "    return tr, xv"
   ]
  },
  {
   "cell_type": "code",
   "execution_count": 34,
   "metadata": {},
   "outputs": [],
   "source": [
    "tr_indices, xv_indices = split(df)\n",
    "\n",
    "features_tr = df.loc[tr_indices, :]\n",
    "features_xval = df.loc[xv_indices, :]\n",
    "y_tr = y.loc[tr_indices]\n",
    "y_xval = y.loc[xv_indices]"
   ]
  },
  {
   "cell_type": "code",
   "execution_count": 35,
   "metadata": {},
   "outputs": [
    {
     "name": "stdout",
     "output_type": "stream",
     "text": [
      "Zipcode [173171.  78918. 261185. ... 616615. 494037. 148350.]\n",
      "doc acres [ 2503  2610  2495 ... 14539 14528 14348]\n",
      "building type name [1 8 3]\n",
      "building style code [4 3 2 5 1]\n",
      "building class code [3 2 1 4 5 6]\n",
      "quality code [1980 1955 1941 1967 1989 1991 1996 2000 1939 1973 1985 1961 1974 1992\n",
      " 2001 1968 1931 1983 1958 1975 1987 1953 1963 1998 1924 1966 1979 2008\n",
      " 1969 2004 1960 1943 1952 1948 1921 1908 1926 1971 2006 1914 2015 2016\n",
      " 2003 1984 1937 1981 1977 1962 1954 1949 1957 1930 1936 1942 1990 1972\n",
      " 1944 1934 1946 2011 2005 1959 1925 1950 1964 1956 1965 1993 1999 1995\n",
      " 1976 2007 1988 2013 1920 2002 2010 1994 2012 2009 1911 1922 1970 1865\n",
      " 1945 1986 1940 2018 1947 1951 1935 1978 2014 1982 2017 1997 1928 1933\n",
      " 1915 1929 1932 1919 1909 1896 1918 1927 1938 1923 1910 1916 1917 1904\n",
      " 1905 1912 1907 1913 1906 1899 1901 1900 1903 1898 1887 1902 1897 1892\n",
      " 1894 1854 1884 1888 1880 1882 1872 1848 1877]\n",
      "actual year built [1980 1955 1941 1967 1989 1991 1996 2000 1939 1990 1985 1961 1974 1992\n",
      " 2001 1960 1968 1931 1983 1958 1975 1987 1953 1963 1998 1924 1966 1979\n",
      " 2008 1969 2004 1943 1952 1995 1940 1971 2006 1950 2015 2016 2003 1984\n",
      " 1937 1981 1977 1962 1954 1949 1957 1930 1972 1942 1944 1946 2011 2005\n",
      " 1959 1964 1956 1965 1993 1999 1976 1973 2007 1988 2013 2002 2010 1994\n",
      " 2012 2009 1936 1970 1865 1945 1986 1948 2018 1947 1951 1935 2014 1982\n",
      " 2017 1978 1997 1928 1933 1926 1934 1929 1932 1920 1938 1923 1925 1918\n",
      " 1921 1908 1922 1917 1927 1919 1911 1915 1914 1904 1916 1909 1905 1913\n",
      " 1910 1912 1899 1888 1907 1894 1906 1901 1900 1877]\n",
      "effective year built [120133.  48668.  95761. ... 250959. 507750. 369495.]\n",
      "building heated area [ 3  4  1  2  5 10  6  7  0  8]\n",
      "Number Of Bedrooms [2 1 4 3 5 6 0 7 8]\n",
      "Number Of Bathrooms [ 1  0  2 21]\n",
      "Number Of Rooms [1 2 3 0 4 5]\n"
     ]
    }
   ],
   "source": [
    "for col in df.columns.values:\n",
    "    print(col, df[col].unique())"
   ]
  },
  {
   "cell_type": "code",
   "execution_count": 37,
   "metadata": {},
   "outputs": [
    {
     "name": "stdout",
     "output_type": "stream",
     "text": [
      "tr MSE 48005502.7673715 xval MSE 54165072.24988032\n"
     ]
    }
   ],
   "source": [
    "#create split function\n",
    "random.seed(19860406)\n",
    "np.random.seed(19860406)\n",
    "\n",
    "rfc = RandomForestRegressor(\n",
    "        max_depth = 5, \n",
    "        n_estimators = 25, \n",
    "        min_samples_leaf = 15)\n",
    "\n",
    "rfc.fit(features_tr, y_tr.values.ravel())\n",
    "\n",
    "tr_yhat2 = rfc.predict(features_tr)\n",
    "xval_yhat2 = rfc.predict(features_xval)\n",
    "\n",
    "tr_MSE = metrics.mean_squared_error(y_tr, tr_yhat2)\n",
    "xval_MSE = metrics.mean_squared_error(y_xval, xval_yhat2)\n",
    "\n",
    "print('tr MSE {} xval MSE {}'.format(tr_MSE, xval_MSE))\n"
   ]
  },
  {
   "cell_type": "code",
   "execution_count": 38,
   "metadata": {},
   "outputs": [],
   "source": [
    "with open(os.path.join(\".model\", 'model.pckl'), 'wb') as f:\n",
    "   pickle.dump(rfc, f,  pickle.HIGHEST_PROTOCOL)"
   ]
  },
  {
   "cell_type": "code",
   "execution_count": null,
   "metadata": {},
   "outputs": [],
   "source": []
  }
 ],
 "metadata": {
  "kernelspec": {
   "display_name": "Python 3",
   "language": "python",
   "name": "python3"
  },
  "language_info": {
   "codemirror_mode": {
    "name": "ipython",
    "version": 3
   },
   "file_extension": ".py",
   "mimetype": "text/x-python",
   "name": "python",
   "nbconvert_exporter": "python",
   "pygments_lexer": "ipython3",
   "version": "3.7.3"
  }
 },
 "nbformat": 4,
 "nbformat_minor": 2
}
