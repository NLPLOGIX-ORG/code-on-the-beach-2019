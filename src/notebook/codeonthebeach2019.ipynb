{
 "cells": [
  {
   "cell_type": "code",
   "execution_count": 36,
   "metadata": {},
   "outputs": [],
   "source": [
    "from sklearn.ensemble import RandomForestRegressor\n",
    "from sklearn import metrics\n",
    "from sklearn.utils import resample \n",
    "import pandas as pd\n",
    "import numpy as np\n",
    "import os, random\n",
    "import matplotlib.pyplot as plt\n",
    "from sklearn.tree import export_graphviz\n",
    "import pickle "
   ]
  },
  {
   "cell_type": "code",
   "execution_count": 37,
   "metadata": {},
   "outputs": [
    {
     "data": {
      "text/plain": [
       "(array([4.20048709e-06, 2.00122620e-06, 3.55620943e-07, 9.61792104e-08,\n",
       "        3.99324332e-08, 2.47692230e-08, 1.58380128e-08, 8.33579620e-09,\n",
       "        6.15261148e-09, 4.16789810e-09, 3.49309555e-09, 1.66715924e-09,\n",
       "        1.94501911e-09, 9.52662422e-10, 1.23052230e-09, 7.93885352e-10,\n",
       "        5.55719746e-10, 3.57248408e-10, 4.36636944e-10, 2.77859873e-10,\n",
       "        1.58777070e-10, 2.77859873e-10, 1.98471338e-10, 1.58777070e-10,\n",
       "        0.00000000e+00, 1.19082803e-10, 0.00000000e+00, 0.00000000e+00,\n",
       "        3.96942676e-11, 7.93885352e-11]),\n",
       " array([3.2120000e+03, 1.5102180e+05, 2.9883160e+05, 4.4664140e+05,\n",
       "        5.9445120e+05, 7.4226100e+05, 8.9007080e+05, 1.0378806e+06,\n",
       "        1.1856904e+06, 1.3335002e+06, 1.4813100e+06, 1.6291198e+06,\n",
       "        1.7769296e+06, 1.9247394e+06, 2.0725492e+06, 2.2203590e+06,\n",
       "        2.3681688e+06, 2.5159786e+06, 2.6637884e+06, 2.8115982e+06,\n",
       "        2.9594080e+06, 3.1072178e+06, 3.2550276e+06, 3.4028374e+06,\n",
       "        3.5506472e+06, 3.6984570e+06, 3.8462668e+06, 3.9940766e+06,\n",
       "        4.1418864e+06, 4.2896962e+06, 4.4375060e+06]),\n",
       " <a list of 30 Patch objects>)"
      ]
     },
     "execution_count": 37,
     "metadata": {},
     "output_type": "execute_result"
    },
    {
     "data": {
      "image/png": "[encoded data removed]",
      "text/plain": [
       "<Figure size 432x288 with 1 Axes>"
      ]
     },
     "metadata": {
      "needs_background": "light"
     },
     "output_type": "display_data"
    }
   ],
   "source": [
    "#read in the case table\n",
    "fpath = os.path.join(\".data\", \"casetable.psv\")\n",
    "df = pd.read_csv(fpath, sep = \"|\", low_memory=False)\n",
    "\n",
    "plt.hist(df['Assessed Value'], density=True, bins=30)"
   ]
  },
  {
   "cell_type": "code",
   "execution_count": 38,
   "metadata": {},
   "outputs": [
    {
     "data": {
      "image/png": "[encoded data removed]",
      "text/plain": [
       "<Figure size 432x288 with 1 Axes>"
      ]
     },
     "metadata": {
      "needs_background": "light"
     },
     "output_type": "display_data"
    }
   ],
   "source": [
    "plt.ylabel('AssessedValue')\n",
    "\n",
    "df.columns.values\n",
    "plt.hist(df['Number Of Bedrooms'], density=True, bins=30)\n",
    "plt.ylabel('Number Of Bedrooms')\n",
    "\n",
    "df = df[df['Assessed Value']<1000000]\n",
    "df = df[df['Number Of Bedrooms']<10]\n",
    "df.fillna(-999,inplace = True)\n",
    "\n",
    "y = df['Assessed Value']\n",
    "\n",
    "df.drop(['Parcel Number','Section','Township','Total Market Value',\n",
    "         'Assessed Value','Total Just Value', 'Site Address Number',\n",
    "         'Site Address Street Name','Site Address Street Type',\n",
    "         'Site Address Unit Number','Site Address City','Building Number',\n",
    "         'Exemption Code','Site Zip Code',\n",
    "         'Amenity Item Code', \"building value\", \"building type name\"], axis = 1, \n",
    "         inplace = True)"
   ]
  },
  {
   "cell_type": "code",
   "execution_count": 39,
   "metadata": {},
   "outputs": [],
   "source": [
    "def split(df, pct=.7):\n",
    "    tr, xv = [], []\n",
    "     \n",
    "    indices = [x for x in df.index]\n",
    "    random.shuffle(indices)\n",
    " \n",
    "    for ind in indices:\n",
    "        if np.random.rand() <= pct:\n",
    "            tr.append(ind)\n",
    "        else:\n",
    "            xv.append(ind)\n",
    " \n",
    "    return tr, xv"
   ]
  },
  {
   "cell_type": "code",
   "execution_count": 40,
   "metadata": {},
   "outputs": [],
   "source": [
    "tr_indices, xv_indices = split(df)\n",
    "\n",
    "features_tr = df.loc[tr_indices, :]\n",
    "features_xval = df.loc[xv_indices, :]\n",
    "y_tr = y.loc[tr_indices]\n",
    "y_xval = y.loc[xv_indices]"
   ]
  },
  {
   "cell_type": "code",
   "execution_count": 41,
   "metadata": {},
   "outputs": [
    {
     "name": "stdout",
     "output_type": "stream",
     "text": [
      "doc acres [1.82  1.21  0.    ... 1.483 1.375 1.144]\n",
      "building type code [101 102 103 106 108 104 105 401 111 301 501]\n",
      "building style code [1 8 3]\n",
      "building class code [4 3 2 5 1]\n",
      "quality code [3 2 1 4 5 6]\n",
      "actual year built [1980 1955 1941 1967 1989 1991 1996 2000 1939 1973 1985 1961 1974 1992\n",
      " 2001 1968 1931 1983 1958 1975 1987 1953 1963 1998 1924 1966 1979 2008\n",
      " 1969 2004 1960 1943 1952 1948 1921 1908 1926 1971 2006 1914 2015 2016\n",
      " 2003 1984 1937 1981 1977 1962 1954 1949 1957 1930 1936 1942 1990 1972\n",
      " 1944 1934 1946 2011 2005 1959 1925 1950 1964 1956 1965 1993 1999 1995\n",
      " 1976 2007 1988 2013 1920 2002 2010 1994 2012 2009 1911 1922 1970 1945\n",
      " 1986 1940 2018 1947 1951 1935 1978 2014 1982 2017 1997 1928 1933 1915\n",
      " 1929 1932 1919 1909 1896 1918 1927 1938 1923 1910 1916 1917 1904 1905\n",
      " 1912 1907 1913 1906 1899 1901 1900 1903 1898 1887 1902 1897 1892 1894\n",
      " 1854 1884 1888 1880 1885 1882 1872 1848 1877]\n",
      "effective year built [1980 1955 1941 1967 1989 1991 1996 2000 1939 1990 1985 1961 1974 1992\n",
      " 2001 1960 1968 1931 1983 1958 1975 1987 1953 1963 1998 1924 1966 1979\n",
      " 2008 1969 2004 1943 1952 1995 1940 1971 2006 1950 2015 2016 2003 1984\n",
      " 1937 1981 1977 1962 1954 1949 1957 1930 1972 1942 1944 1946 2011 2005\n",
      " 1959 1964 1956 1965 1993 1999 1976 1973 2007 1988 2013 2002 2010 1994\n",
      " 2012 2009 1936 1970 1945 1986 1948 2018 1947 1951 1935 2014 1982 2017\n",
      " 1978 1997 1928 1933 1926 1934 1929 1932 1920 1938 1923 1925 1918 1921\n",
      " 1908 1922 1917 1927 1919 1911 1915 1914 1904 1916 1909 1905 1913 1910\n",
      " 1912 1899 1888 1907 1894 1906 1901 1900 1877]\n",
      "building heated area [2228 1040 2731 ... 5419 6248 5301]\n",
      "Number Of Bedrooms [3 4 1 2 5 6 7 0 8]\n",
      "Number Of Bathrooms [  2   1   4   3   5   6   0 305   7   8  20]\n",
      "Number Of Rooms [ 1  0  2 21]\n",
      "Number Of Stories [1 2 3 0 4 5]\n"
     ]
    }
   ],
   "source": [
    "for col in df.columns.values:\n",
    "    print(col, df[col].unique())"
   ]
  },
  {
   "cell_type": "code",
   "execution_count": 47,
   "metadata": {},
   "outputs": [],
   "source": [
    "#create split function\n",
    "random.seed(19860406)\n",
    "np.random.seed(19860406)\n",
    "\n",
    "rfc = RandomForestRegressor(\n",
    "        max_depth = 5, \n",
    "        n_estimators = 25, \n",
    "        min_samples_leaf = 15)\n",
    "\n",
    "rfc.fit(features_tr, y_tr.values.ravel())\n",
    "\n",
    "tr_yhat2 = rfc.predict(features_tr)\n",
    "xval_yhat2 = rfc.predict(features_xval)\n",
    "\n",
    "tr_MSE = metrics.mean_squared_error(y_tr, tr_yhat2)\n",
    "xval_MSE = metrics.mean_squared_error(y_xval, xval_yhat2)\n"
   ]
  },
  {
   "cell_type": "code",
   "execution_count": 48,
   "metadata": {},
   "outputs": [
    {
     "ename": "FileNotFoundError",
     "evalue": "[Errno 2] No such file or directory: '.model/model.pckl'",
     "output_type": "error",
     "traceback": [
      "\u001b[0;31m---------------------------------------------------------------------------\u001b[0m",
      "\u001b[0;31mFileNotFoundError\u001b[0m                         Traceback (most recent call last)",
      "\u001b[0;32m<ipython-input-48-5716aabd525a>\u001b[0m in \u001b[0;36m<module>\u001b[0;34m\u001b[0m\n\u001b[0;32m----> 1\u001b[0;31m \u001b[0;32mwith\u001b[0m \u001b[0mopen\u001b[0m\u001b[0;34m(\u001b[0m\u001b[0mos\u001b[0m\u001b[0;34m.\u001b[0m\u001b[0mpath\u001b[0m\u001b[0;34m.\u001b[0m\u001b[0mjoin\u001b[0m\u001b[0;34m(\u001b[0m\u001b[0;34m\".model\"\u001b[0m\u001b[0;34m,\u001b[0m \u001b[0;34m'model.pckl'\u001b[0m\u001b[0;34m)\u001b[0m\u001b[0;34m,\u001b[0m \u001b[0;34m'wb'\u001b[0m\u001b[0;34m)\u001b[0m \u001b[0;32mas\u001b[0m \u001b[0mf\u001b[0m\u001b[0;34m:\u001b[0m\u001b[0;34m\u001b[0m\u001b[0;34m\u001b[0m\u001b[0m\n\u001b[0m\u001b[1;32m      2\u001b[0m    \u001b[0mpickle\u001b[0m\u001b[0;34m.\u001b[0m\u001b[0mdump\u001b[0m\u001b[0;34m(\u001b[0m\u001b[0mrfc\u001b[0m\u001b[0;34m,\u001b[0m \u001b[0mf\u001b[0m\u001b[0;34m,\u001b[0m  \u001b[0mpickle\u001b[0m\u001b[0;34m.\u001b[0m\u001b[0mHIGHEST_PROTOCOL\u001b[0m\u001b[0;34m)\u001b[0m\u001b[0;34m\u001b[0m\u001b[0;34m\u001b[0m\u001b[0m\n",
      "\u001b[0;31mFileNotFoundError\u001b[0m: [Errno 2] No such file or directory: '.model/model.pckl'"
     ]
    }
   ],
   "source": [
    "with open(os.path.join(\".model\", 'model.pckl'), 'wb') as f:\n",
    "   pickle.dump(rfc, f,  pickle.HIGHEST_PROTOCOL)"
   ]
  }
 ],
 "metadata": {
  "kernelspec": {
   "display_name": "Python 3",
   "language": "python",
   "name": "python3"
  },
  "language_info": {
   "codemirror_mode": {
    "name": "ipython",
    "version": 3
   },
   "file_extension": ".py",
   "mimetype": "text/x-python",
   "name": "python",
   "nbconvert_exporter": "python",
   "pygments_lexer": "ipython3",
   "version": "3.7.3"
  }
 },
 "nbformat": 4,
 "nbformat_minor": 2
}
