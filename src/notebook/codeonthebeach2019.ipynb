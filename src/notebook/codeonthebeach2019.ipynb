{
 "cells": [
  {
   "cell_type": "code",
   "execution_count": 17,
   "metadata": {},
   "outputs": [],
   "source": [
    "from sklearn.ensemble import RandomForestRegressor\n",
    "from sklearn import metrics\n",
    "from sklearn.utils import resample \n",
    "import pandas as pd\n",
    "import numpy as np\n",
    "import os, random\n",
    "import matplotlib.pyplot as plt\n",
    "from sklearn.tree import export_graphviz\n",
    "import pickle "
   ]
  },
  {
   "cell_type": "code",
   "execution_count": 23,
   "metadata": {},
   "outputs": [
    {
     "data": {
      "text/plain": [
       "(array([3.62622783e-07, 1.71761455e-10, 5.49636655e-11, 3.43522909e-11,\n",
       "        2.06113746e-11, 2.06113746e-11, 6.87045818e-12, 0.00000000e+00,\n",
       "        0.00000000e+00, 6.87045818e-12, 0.00000000e+00, 0.00000000e+00,\n",
       "        6.87045818e-12, 1.37409164e-11, 0.00000000e+00, 0.00000000e+00,\n",
       "        0.00000000e+00, 0.00000000e+00, 0.00000000e+00, 0.00000000e+00,\n",
       "        0.00000000e+00, 0.00000000e+00, 0.00000000e+00, 0.00000000e+00,\n",
       "        0.00000000e+00, 0.00000000e+00, 0.00000000e+00, 0.00000000e+00,\n",
       "        0.00000000e+00, 6.87045818e-12]),\n",
       " array([       0.        ,  2755076.66666667,  5510153.33333333,\n",
       "         8265230.        , 11020306.66666667, 13775383.33333333,\n",
       "        16530460.        , 19285536.66666666, 22040613.33333333,\n",
       "        24795690.        , 27550766.66666666, 30305843.33333333,\n",
       "        33060920.        , 35815996.66666666, 38571073.33333333,\n",
       "        41326150.        , 44081226.66666666, 46836303.33333333,\n",
       "        49591380.        , 52346456.66666666, 55101533.33333333,\n",
       "        57856610.        , 60611686.66666666, 63366763.33333333,\n",
       "        66121840.        , 68876916.66666666, 71631993.33333333,\n",
       "        74387070.        , 77142146.66666666, 79897223.33333333,\n",
       "        82652300.        ]),\n",
       " <a list of 30 Patch objects>)"
      ]
     },
     "execution_count": 23,
     "metadata": {},
     "output_type": "execute_result"
    },
    {
     "data": {
      "image/png": "[encoded data removed]",
      "text/plain": [
       "<Figure size 432x288 with 1 Axes>"
      ]
     },
     "metadata": {
      "needs_background": "light"
     },
     "output_type": "display_data"
    }
   ],
   "source": [
    "#read in the case table\n",
    "fpath = os.path.join(\".data\", \"casetable.psv\")\n",
    "df = pd.read_csv(fpath, sep = \"|\")\n",
    "\n",
    "plt.hist(df['Assessed Value'], density=True, bins=30)"
   ]
  },
  {
   "cell_type": "code",
   "execution_count": 24,
   "metadata": {},
   "outputs": [
    {
     "data": {
      "image/png": "[encoded data removed]",
      "text/plain": [
       "<Figure size 432x288 with 1 Axes>"
      ]
     },
     "metadata": {
      "needs_background": "light"
     },
     "output_type": "display_data"
    }
   ],
   "source": [
    "plt.ylabel('AssessedValue')\n",
    "\n",
    "df.columns.values\n",
    "plt.hist(df['Number Of Bedrooms'], density=True, bins=30)\n",
    "plt.ylabel('Number Of Bedrooms')\n",
    "\n",
    "df = df[df['Assessed Value']<1000000]\n",
    "df = df[df['Number Of Bedrooms']<10]\n",
    "df.fillna(-999,inplace = True)\n",
    "\n",
    "y = df['Assessed Value']\n",
    "\n",
    "df.drop(['Parcel Number','Section','Township','Total Market Value',\n",
    "         'Assessed Value','Total Just Value', 'Site Address Number',\n",
    "         'Site Address Street Name','Site Address Street Type',\n",
    "         'Site Address Unit Number','Site Address City','Building Number',\n",
    "         'Exemption Code', 'Date of Sale', 'Sale Price','Site Zip Code',\n",
    "         'Amenity Item Code', \"building value\"], axis = 1, \n",
    "         inplace = True)"
   ]
  },
  {
   "cell_type": "code",
   "execution_count": 25,
   "metadata": {},
   "outputs": [],
   "source": [
    "def split(df, pct=.7):\n",
    "    tr, xv = [], []\n",
    "     \n",
    "    indices = [x for x in df.index]\n",
    "    random.shuffle(indices)\n",
    " \n",
    "    for ind in indices:\n",
    "        if np.random.rand() <= pct:\n",
    "            tr.append(ind)\n",
    "        else:\n",
    "            xv.append(ind)\n",
    " \n",
    "    return tr, xv"
   ]
  },
  {
   "cell_type": "code",
   "execution_count": 26,
   "metadata": {},
   "outputs": [],
   "source": [
    "tr_indices, xv_indices = split(df)\n",
    "\n",
    "features_tr = df.loc[tr_indices, :]\n",
    "features_xval = df.loc[xv_indices, :]\n",
    "y_tr = y.loc[tr_indices]\n",
    "y_xval = y.loc[xv_indices]"
   ]
  },
  {
   "cell_type": "code",
   "execution_count": 27,
   "metadata": {},
   "outputs": [],
   "source": [
    "#create split function\n",
    "random.seed(19860406)\n",
    "np.random.seed(19860406)\n",
    "\n",
    "rfc = RandomForestRegressor(\n",
    "        max_depth = 5, \n",
    "        n_estimators = 25, \n",
    "        min_samples_leaf = 15)\n",
    "\n",
    "rfc.fit(features_tr, y_tr.values.ravel())\n",
    "\n",
    "tr_yhat2 = rfc.predict(features_tr)\n",
    "xval_yhat2 = rfc.predict(features_xval)\n",
    "\n",
    "tr_MSE = metrics.mean_squared_error(y_tr, tr_yhat2)\n",
    "xval_MSE = metrics.mean_squared_error(y_xval, xval_yhat2)\n"
   ]
  },
  {
   "cell_type": "code",
   "execution_count": 28,
   "metadata": {},
   "outputs": [],
   "source": [
    "df_fits =  pd.DataFrame(rfc.predict(features))\n",
    "df_full = pd.concat([df, df_fits], axis = 1)"
   ]
  },
  {
   "cell_type": "code",
   "execution_count": 30,
   "metadata": {},
   "outputs": [],
   "source": [
    "with open(os.path.join(\".model\", 'model.pckl'), 'wb') as f:\n",
    "   pickle.dump(rfc, f,  pickle.HIGHEST_PROTOCOL)"
   ]
  },
  {
   "cell_type": "code",
   "execution_count": null,
   "metadata": {},
   "outputs": [],
   "source": []
  }
 ],
 "metadata": {
  "kernelspec": {
   "display_name": "Python 3",
   "language": "python",
   "name": "python3"
  },
  "language_info": {
   "codemirror_mode": {
    "name": "ipython",
    "version": 3
   },
   "file_extension": ".py",
   "mimetype": "text/x-python",
   "name": "python",
   "nbconvert_exporter": "python",
   "pygments_lexer": "ipython3",
   "version": "3.7.3"
  }
 },
 "nbformat": 4,
 "nbformat_minor": 2
}
